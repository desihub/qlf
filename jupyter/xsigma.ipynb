{
 "cells": [
  {
   "cell_type": "markdown",
   "metadata": {},
   "source": [
    "## XSIGMA Plots Example\n",
    "\n",
    "This is an example on how to make xsigma plots using Jupyter Notebook. This notebook contains:\n",
    "\n",
    "1. How to connect to the api to get mergedQA data\n",
    "2. Wedge plot\n",
    "3. Simple Histogram\n",
    "4. Histogram with labels\n",
    "5. Patch plot"
   ]
  },
  {
   "cell_type": "markdown",
   "metadata": {},
   "source": [
    "### 1. How to connect to the api to get mergedQA data\n",
    "\n",
    "#### 1.1 Connecting to a QLF API\n",
    "\n",
    "The following cell connect to the api running in the same Docker environment as the Jupyter Notebook docker container.\n",
    "\n",
    "\n",
    "```\n",
    "http://app:8000/dashboard/api/job/?process=2\n",
    "```\n",
    "\n",
    "But it can be used by any other QLF accessible api such as:\n",
    "\n",
    "```\n",
    "http://qltest.linea.gov.br/dashboard/api/job/?process=8\n",
    "```"
   ]
  },
  {
   "cell_type": "code",
   "execution_count": null,
   "metadata": {},
   "outputs": [],
   "source": [
    "import urllib.request\n",
    "import json\n",
    "job = urllib.request.urlopen(\"http://ql.linea.gov.br/dashboard/api/job/?process=1\").read()\n",
    "api = json.loads(job)\n",
    "mergedqa = api['results'][0]['output']\n",
    "print('mergedQA loaded!')"
   ]
  },
  {
   "cell_type": "markdown",
   "metadata": {},
   "source": [
    "#### 1.2 Loading `Bokeh` and adding QLF ploting code to the python path"
   ]
  },
  {
   "cell_type": "code",
   "execution_count": null,
   "metadata": {},
   "outputs": [],
   "source": [
    "import sys\n",
    "sys.path.append('/app/qlf/backend/framework/qlf')\n",
    "from bokeh.io import show, output_notebook\n",
    "output_notebook()"
   ]
  },
  {
   "cell_type": "markdown",
   "metadata": {},
   "source": [
    "### 2. Wedge Plot\n",
    "#### 2.1 Preparing mergedQA data to be displayed"
   ]
  },
  {
   "cell_type": "code",
   "execution_count": null,
   "metadata": {},
   "outputs": [],
   "source": [
    "from bokeh.models import ColumnDataSource, Range1d\n",
    "import numpy as np\n",
    "from dashboard.bokeh.helper import get_palette, sort_obj\n",
    "from bokeh.models import LinearColorMapper\n",
    "\n",
    "check_ccds = mergedqa['TASKS']['CHECK_CCDs']\n",
    "\n",
    "gen_info = mergedqa['GENERAL_INFO']\n",
    "flavor= mergedqa['FLAVOR']\n",
    "\n",
    "ra = gen_info['RA']\n",
    "dec = gen_info['DEC']\n",
    "xw_fib = check_ccds['METRICS']['XWSIGMA_FIB']\n",
    "xsigma = xw_fib[0]\n",
    "xfiber = np.arange(len(xsigma))\n",
    "obj_type = sort_obj(gen_info)\n",
    "\n",
    "source = ColumnDataSource(data={\n",
    "    'x1': ra,  \n",
    "    'y1': dec, \n",
    "    'xsigma': xsigma,\n",
    "    'xfiber': xfiber,\n",
    "    'OBJ_TYPE': obj_type,\n",
    "    'left': np.arange(0, 500)-0.4,\n",
    "    'right': np.arange(0, 500)+0.4,\n",
    "    'bottom': [0]*500\n",
    "    })\n",
    "\n",
    "# centralize wedges in plots:\n",
    "ra_center=0.5*(max(ra)+min(ra))\n",
    "dec_center=0.5*(max(dec)+min(dec))\n",
    "xrange_wedge = Range1d(start=ra_center + .95, end=ra_center-.95)\n",
    "yrange_wedge = Range1d(start=dec_center+.82, end=dec_center-.82)\n",
    "\n",
    "my_palette = get_palette(\"viridis\")\n",
    "xmapper = LinearColorMapper(palette=my_palette,\n",
    "                            low=0.98*np.min(xsigma),\n",
    "                            high=1.02*np.max(xsigma))\n",
    "print('Data Ready!')"
   ]
  },
  {
   "cell_type": "markdown",
   "metadata": {},
   "source": [
    "#### 2.2 Creating tooltip format"
   ]
  },
  {
   "cell_type": "code",
   "execution_count": null,
   "metadata": {},
   "outputs": [],
   "source": [
    "xsigma_tooltip = \"\"\"\n",
    "    <div>\n",
    "        <div>\n",
    "            <span style=\"font-size: 1vw; font-weight: bold; color: #303030;\">XSigma: </span>\n",
    "            <span style=\"font-size: 1vw; color: #515151\">@xsigma</span>\n",
    "        </div>\n",
    "        <div>\n",
    "            <span style=\"font-size: 1vw; font-weight: bold; color: #303030;\">Obj Type: </span>\n",
    "            <span style=\"font-size: 1vw; color: #515151;\">@OBJ_TYPE</span>\n",
    "        </div>\n",
    "        <div>\n",
    "            <span style=\"font-size: 1vw; font-weight: bold; color: #303030;\">RA: </span>\n",
    "            <span style=\"font-size: 1vw; color: #515151;\">@x1</span>\n",
    "        </div>\n",
    "        <div>\n",
    "            <span style=\"font-size: 1vw; font-weight: bold; color: #303030;\">DEC: </span>\n",
    "            <span style=\"font-size: 1vw; color: #515151;\">@y1</span>\n",
    "        </div>\n",
    "\n",
    "        <div>\n",
    "            <span style=\"font-size: 1vw; font-weight: bold; color: #303030;\">FIBER ID: </span>\n",
    "            <span style=\"font-size: 1vw; color: #515151;\">@xfiber</span>\n",
    "        </div>\n",
    "\n",
    "        </div>\n",
    "    \"\"\"\n",
    "print('Tooltip Created!')"
   ]
  },
  {
   "cell_type": "markdown",
   "metadata": {},
   "source": [
    "#### 2.3 Showing a Wedge Plot"
   ]
  },
  {
   "cell_type": "code",
   "execution_count": null,
   "metadata": {},
   "outputs": [],
   "source": [
    "from dashboard.bokeh.plots.plot2d.main import Plot2d\n",
    "\n",
    "wedge_plot_x = Plot2d(\n",
    "    x_range=xrange_wedge,\n",
    "    y_range=yrange_wedge,\n",
    "    x_label=\"RA\",\n",
    "    y_label=\"DEC\",\n",
    "    tooltip=xsigma_tooltip,\n",
    "    title=\"XSIGMA\",\n",
    "    width=500,\n",
    "    height=380,\n",
    "    yscale=\"auto\"\n",
    ").wedge(\n",
    "    source,\n",
    "    x='x1',\n",
    "    y='y1',\n",
    "    field='xsigma',\n",
    "    mapper=xmapper,\n",
    "    colorbar_title='xsigma'\n",
    ").plot\n",
    "\n",
    "show(wedge_plot_x)"
   ]
  },
  {
   "cell_type": "markdown",
   "metadata": {},
   "source": [
    "### 3. Simple Histogram"
   ]
  },
  {
   "cell_type": "code",
   "execution_count": null,
   "metadata": {},
   "outputs": [],
   "source": [
    "d_yplt = (max(xsigma) - min(xsigma))*0.1\n",
    "yrange = [0, max(xsigma) + d_yplt]\n",
    "\n",
    "xhist = Plot2d(\n",
    "    yrange,\n",
    "    x_label=\"Fiber number\",\n",
    "    y_label=\"X std dev (number of pixels)\",\n",
    "    tooltip=xsigma_tooltip,\n",
    "    title=\"Histogram\",\n",
    "    width=600,\n",
    "    height=300,\n",
    "    yscale=\"auto\",\n",
    "    hover_mode=\"vline\",\n",
    ").quad(\n",
    "    source,\n",
    "    top='xsigma',\n",
    ")\n",
    "show(xhist)"
   ]
  },
  {
   "cell_type": "markdown",
   "metadata": {},
   "source": [
    "### 4. Histogram with labels\n",
    "#### 4.1 Preparing mergedQA data to be displayed"
   ]
  },
  {
   "cell_type": "code",
   "execution_count": null,
   "metadata": {},
   "outputs": [],
   "source": [
    "wrg = check_ccds['PARAMS']['XWSIGMA_WARN_RANGE']\n",
    "delta_rg = wrg[1] - wrg[0]\n",
    "hist_rg = (wrg[0] - 0.1*delta_rg, wrg[1]+0.1*delta_rg)\n",
    "\n",
    "if mergedqa['FLAVOR'].upper() == 'SCIENCE':\n",
    "    program = mergedqa['GENERAL_INFO']['PROGRAM'].upper()\n",
    "    program_prefix = '_'+program\n",
    "else:\n",
    "    program_prefix = ''\n",
    "xw_ref = check_ccds['PARAMS']['XWSIGMA'+program_prefix+'_REF']\n",
    "\n",
    "hist, edges = np.histogram(xsigma, 'sqrt')\n",
    "\n",
    "source_hist = ColumnDataSource(data={\n",
    "    'hist': hist,\n",
    "    'bottom': [0] * len(hist),\n",
    "    'left': edges[:-1],\n",
    "    'right': edges[1:]\n",
    "})\n",
    "print('Done!')"
   ]
  },
  {
   "cell_type": "markdown",
   "metadata": {},
   "source": [
    "#### 4.2 Creating new tooltip format"
   ]
  },
  {
   "cell_type": "code",
   "execution_count": null,
   "metadata": {},
   "outputs": [],
   "source": [
    "hist_tooltip_x = \"\"\"\n",
    "    <div>\n",
    "        <div>\n",
    "            <span style=\"font-size: 1vw; font-weight: bold; color: #303030;\">Frequency: </span>\n",
    "            <span style=\"font-size: 1vw; color: #515151\">@hist</span>\n",
    "        </div>\n",
    "        <div>\n",
    "            <span style=\"font-size: 1vw; font-weight: bold; color: #303030;\">XSIGMA: </span>\n",
    "            <span style=\"font-size: 1vw; color: #515151;\">[@left, @right]</span>\n",
    "        </div>\n",
    "    </div>\n",
    "\"\"\"\n",
    "print('Tooltip Created!')"
   ]
  },
  {
   "cell_type": "markdown",
   "metadata": {},
   "source": [
    "#### 4.3 Plotting a simple histogram"
   ]
  },
  {
   "cell_type": "code",
   "execution_count": null,
   "metadata": {},
   "outputs": [],
   "source": [
    "p_hist_x = Plot2d(\n",
    "    x_label=\"XSIGMA\",\n",
    "    y_label=\"Frequency\",\n",
    "    tooltip=hist_tooltip_x,\n",
    "    title=\"Histogram\",\n",
    "    width=600,\n",
    "    height=300,\n",
    "    yscale=\"auto\",\n",
    "    y_range=(0.0*max(hist), 1.1*max(hist)),\n",
    "    x_range=(hist_rg[0]+xw_ref[0],\n",
    "             hist_rg[1]+xw_ref[0]),\n",
    "    hover_mode=\"vline\",\n",
    ").quad(\n",
    "    source_hist,\n",
    "    top='hist',\n",
    "    bottom='bottom',\n",
    "    line_width=0.4,\n",
    ")\n",
    "\n",
    "show(p_hist_x)"
   ]
  },
  {
   "cell_type": "markdown",
   "metadata": {},
   "source": [
    "#### 4.4 Creating normal and warning divisors/labels"
   ]
  },
  {
   "cell_type": "code",
   "execution_count": null,
   "metadata": {},
   "outputs": [],
   "source": [
    "nrg = check_ccds['PARAMS']['XWSIGMA_NORMAL_RANGE']\n",
    "\n",
    "from bokeh.models import Span, Label\n",
    "\n",
    "for ialert in nrg:\n",
    "    normal_divisors = Span(location=ialert+xw_ref[0], \n",
    "                dimension='height',\n",
    "                line_color='green',\n",
    "                line_dash='dashed', line_width=2)\n",
    "    p_hist_x.add_layout(normal_divisors)\n",
    "\n",
    "    normal_labels = Label(x=ialert+xw_ref[0], \n",
    "                    y= yrange[-1]/2.2,\n",
    "                    y_units='data',\n",
    "                    text='Normal Range',\n",
    "                    text_color='green', angle=np.pi/2.)\n",
    "    p_hist_x.add_layout(normal_labels)\n",
    "    \n",
    "\n",
    "for ialert in wrg:\n",
    "    warning_divisors = Span(location=ialert+xw_ref[0], dimension='height', line_color='tomato',\n",
    "                 line_dash='dotdash', line_width=2)\n",
    "    p_hist_x.add_layout(warning_divisors)\n",
    "    \n",
    "    warning_labels = Label(x=ialert+xw_ref[0], y=yrange[-1]/2.2, y_units='data',\n",
    "                     text='Warning Range', text_color='tomato', angle=np.pi/2.)\n",
    "    p_hist_x.add_layout(warning_labels)\n",
    "\n",
    "p_hist_x.title.text  = \"Histogram with labels\"\n",
    "show(p_hist_x)"
   ]
  },
  {
   "cell_type": "markdown",
   "metadata": {},
   "source": [
    "### 5. Patch plot"
   ]
  },
  {
   "cell_type": "code",
   "execution_count": null,
   "metadata": {},
   "outputs": [],
   "source": [
    "from dashboard.bokeh.plots.patch.main import Patch\n",
    "\n",
    "xw_amp = check_ccds['METRICS']['XWSIGMA_AMP']\n",
    "\n",
    "xamp = Patch().plot_amp(\n",
    "    dz=xw_amp[0],\n",
    "    refexp=[xw_ref[0]]*4,\n",
    "    name=\"XSIGMA AMP\",\n",
    "    description=\"X std deviation per Amp (number of pixels)\",\n",
    "    wrg=wrg\n",
    ")\n",
    "\n",
    "show(xamp)"
   ]
  },
  {
   "cell_type": "code",
   "execution_count": null,
   "metadata": {},
   "outputs": [],
   "source": []
  }
 ],
 "metadata": {
  "kernelspec": {
   "display_name": "Python 3",
   "language": "python",
   "name": "python3"
  },
  "language_info": {
   "codemirror_mode": {
    "name": "ipython",
    "version": 3
   },
   "file_extension": ".py",
   "mimetype": "text/x-python",
   "name": "python",
   "nbconvert_exporter": "python",
   "pygments_lexer": "ipython3",
   "version": "3.7.1"
  }
 },
 "nbformat": 4,
 "nbformat_minor": 2
}
